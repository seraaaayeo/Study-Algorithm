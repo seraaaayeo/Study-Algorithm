{
 "cells": [
  {
   "cell_type": "markdown",
   "metadata": {},
   "source": [
    "문제가 뭐라는거야\n",
    "\n",
    "아 이거 뭔가 스택인가..."
   ]
  },
  {
   "cell_type": "code",
   "execution_count": 13,
   "metadata": {},
   "outputs": [],
   "source": [
    "def test():\n",
    "    ps = str(input())\n",
    "    stack = []\n",
    "\n",
    "    for s in ps:\n",
    "        print(stack)\n",
    "        if s == '(':\n",
    "            stack.append(s)\n",
    "        else:\n",
    "            if not stack: #stack이 비었다면\n",
    "                print('NO')\n",
    "                return\n",
    "            else:\n",
    "                stack.pop()\n",
    "\n",
    "    print('final', stack)\n",
    "    if not stack:\n",
    "        print('YES')\n",
    "    else:\n",
    "        print('NO')"
   ]
  },
  {
   "cell_type": "code",
   "execution_count": 16,
   "metadata": {},
   "outputs": [
    {
     "name": "stdout",
     "output_type": "stream",
     "text": [
      "(()())((()))\n",
      "[]\n",
      "['(']\n",
      "['(', '(']\n",
      "['(']\n",
      "['(', '(']\n",
      "['(']\n",
      "[]\n",
      "['(']\n",
      "['(', '(']\n",
      "['(', '(', '(']\n",
      "['(', '(']\n",
      "['(']\n",
      "final []\n",
      "YES\n"
     ]
    }
   ],
   "source": [
    "test()"
   ]
  },
  {
   "cell_type": "markdown",
   "metadata": {},
   "source": [
    "### 코드 정리하기\n",
    "주피터에서는 sys.stdin.readline().만 하면 왜 에러가 나는거지??"
   ]
  },
  {
   "cell_type": "code",
   "execution_count": 18,
   "metadata": {},
   "outputs": [],
   "source": [
    "import sys"
   ]
  },
  {
   "cell_type": "code",
   "execution_count": 17,
   "metadata": {},
   "outputs": [],
   "source": [
    "def solution(string):\n",
    "    stack = []\n",
    "    \n",
    "    for s in string:\n",
    "        if s == '(':\n",
    "            stack.append(s)\n",
    "        else:\n",
    "            if not stack:\n",
    "                print('NO')\n",
    "                return\n",
    "            else:\n",
    "                stack.pop()\n",
    "    \n",
    "    if not stack:\n",
    "        print('YES')\n",
    "    else:\n",
    "        print('NO')"
   ]
  },
  {
   "cell_type": "code",
   "execution_count": 22,
   "metadata": {},
   "outputs": [
    {
     "name": "stdout",
     "output_type": "stream",
     "text": [
      "6\n",
      "(())())\n",
      "NO\n",
      "(((()())()\n",
      "NO\n",
      "(()())((()))\n",
      "YES\n",
      "((()()(()))(((())))()\n",
      "NO\n",
      "()()()()(()()())()\n",
      "YES\n",
      "(()((())()(\n",
      "NO\n"
     ]
    }
   ],
   "source": [
    "if __name__=='__main__':\n",
    "    T = int(input())\n",
    "    #T = int(sys.stdin.readline().rstrip())\n",
    "    for i in range(T):\n",
    "        string = input()\n",
    "        #string = sys.stdin.readline().rstrip()\n",
    "        solution(string)"
   ]
  },
  {
   "cell_type": "markdown",
   "metadata": {},
   "source": [
    "### 백준 제출용 코드"
   ]
  },
  {
   "cell_type": "code",
   "execution_count": null,
   "metadata": {},
   "outputs": [],
   "source": [
    "import sys\n",
    "\n",
    "def solution(string):\n",
    "    stack = []\n",
    "    \n",
    "    for s in string:\n",
    "        if s == '(':\n",
    "            stack.append(s)\n",
    "        else:\n",
    "            if not stack:\n",
    "                print('NO')\n",
    "                return\n",
    "            else:\n",
    "                stack.pop()\n",
    "    \n",
    "    if not stack:\n",
    "        print('YES')\n",
    "    else:\n",
    "        print('NO')\n",
    "        \n",
    "if __name__=='__main__':\n",
    "    T = int(sys.stdin.readline().rstrip())\n",
    "    for i in range(T):\n",
    "        string = sys.stdin.readline().rstrip()\n",
    "        solution(string)"
   ]
  }
 ],
 "metadata": {
  "kernelspec": {
   "display_name": "Python 3",
   "language": "python",
   "name": "python3"
  },
  "language_info": {
   "codemirror_mode": {
    "name": "ipython",
    "version": 3
   },
   "file_extension": ".py",
   "mimetype": "text/x-python",
   "name": "python",
   "nbconvert_exporter": "python",
   "pygments_lexer": "ipython3",
   "version": "3.7.9"
  }
 },
 "nbformat": 4,
 "nbformat_minor": 4
}
