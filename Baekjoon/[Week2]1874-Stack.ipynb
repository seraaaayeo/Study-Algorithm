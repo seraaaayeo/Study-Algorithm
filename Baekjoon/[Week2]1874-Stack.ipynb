{
 "cells": [
  {
   "cell_type": "markdown",
   "metadata": {},
   "source": [
    "여기 또 스택이네\n",
    "\n",
    "스택으로 수열 만들기\n",
    "\n",
    "문제 뭔 소리지?\n",
    "\n",
    "1부터 n까지의 수를 스택에 넣었다가 뽑아 늘어놓음으로써, 하나의 수열을 만들 수 있다. 이때, 스택에 push하는 순서는 반드시 오름차순을 지키도록 한다고 하자. 임의의 수열이 주어졌을 때 스택을 이용해 그 수열을 만들 수 있는지 없는지, 있다면 어떤 순서로 push와 pop 연산을 수행해야 하는지를 알아낼 수 있다. 이를 계산하는 프로그램을 작성하라.\n",
    "\n",
    "1부터 n까지에 수에 대해 차례로 [push, push, push, push, pop, pop, push, push, pop, push, push, pop, pop, pop, pop, pop] 연산을 수행하면 수열 [4, 3, 6, 8, 7, 5, 2, 1]을 얻을 수 있다.\n",
    "\n",
    "???\n",
    "\n",
    "push는 +, pop은 -\n",
    "\n",
    "첫 줄엔 n\n",
    "\n",
    "둘째 줄 부터는 수열을 이루는 1이상 n이하의 정수\n",
    "\n",
    "오 알겠다"
   ]
  },
  {
   "cell_type": "code",
   "execution_count": 29,
   "metadata": {},
   "outputs": [],
   "source": [
    "def test():\n",
    "    N = int(input())\n",
    "    stack = []\n",
    "    operator = []\n",
    "    cnt = 1\n",
    "    \n",
    "    for _ in range(1, N+1):        \n",
    "        num = int(input())\n",
    "        while cnt <= num:\n",
    "            # 입력받은 수 만큼 스택에 채우고 push연산 출력\n",
    "            stack.append(cnt)\n",
    "            #print('+')\n",
    "            operator.append('+')\n",
    "            cnt += 1\n",
    "        \n",
    "        print(stack)\n",
    "        # 이건 굳이 안 넣어도 될 것 같지만 혹시 모르니 확인\n",
    "        if stack[-1] == num:\n",
    "            stack.pop()\n",
    "            print(stack)\n",
    "            operator.append('-')\n",
    "    \n",
    "    # 스택이 비었을 경우 연산자 출력\n",
    "    if not stack:\n",
    "        for i in operator:\n",
    "            print(i, end='\\n')\n",
    "    else:\n",
    "        print('NO')"
   ]
  },
  {
   "cell_type": "code",
   "execution_count": 30,
   "metadata": {},
   "outputs": [
    {
     "name": "stdout",
     "output_type": "stream",
     "text": [
      "5\n",
      "1\n",
      "[1]\n",
      "[]\n",
      "2\n",
      "[2]\n",
      "[]\n",
      "5\n",
      "[3, 4, 5]\n",
      "[3, 4]\n",
      "3\n",
      "[3, 4]\n",
      "4\n",
      "[3, 4]\n",
      "[3]\n",
      "NO\n"
     ]
    }
   ],
   "source": [
    "test()"
   ]
  },
  {
   "cell_type": "markdown",
   "metadata": {},
   "source": [
    "예제 입력 2는 왜 NO지 가능한거 아닌가?\n",
    "\n",
    "5\n",
    "\n",
    "1 2 5 3 4 넣는게 왜 수열을 못 만들지?\n",
    "\n",
    "=> 얘는 스택이 비지가 않는구나!"
   ]
  },
  {
   "cell_type": "markdown",
   "metadata": {},
   "source": [
    "### 코드 정리"
   ]
  },
  {
   "cell_type": "code",
   "execution_count": null,
   "metadata": {},
   "outputs": [],
   "source": [
    "import sys\n",
    "\n",
    "def solution():\n",
    "    N = int(sys.stdin.readline().rstrip())\n",
    "    stack = []\n",
    "    operator = []\n",
    "    cnt = 1\n",
    "    \n",
    "    for _ in range(1, N+1):        \n",
    "        num = int(sys.stdin.readline().rstrip())\n",
    "        while cnt <= num:\n",
    "            stack.append(cnt)\n",
    "            operator.append('+')\n",
    "            cnt += 1\n",
    "        \n",
    "        # 이건 굳이 안 넣어도 될 것 같지만 혹시 모르니 확인\n",
    "        if stack[-1] == num:\n",
    "            stack.pop()\n",
    "            operator.append('-')\n",
    "    \n",
    "    # 스택이 비었을 경우 연산자 출력\n",
    "    if not stack:\n",
    "        for i in operator:\n",
    "            print(i, end='\\n')\n",
    "    else:\n",
    "        print('NO')\n",
    "        \n",
    "if __name__=='__main__':\n",
    "    solution()"
   ]
  }
 ],
 "metadata": {
  "kernelspec": {
   "display_name": "Python 3",
   "language": "python",
   "name": "python3"
  },
  "language_info": {
   "codemirror_mode": {
    "name": "ipython",
    "version": 3
   },
   "file_extension": ".py",
   "mimetype": "text/x-python",
   "name": "python",
   "nbconvert_exporter": "python",
   "pygments_lexer": "ipython3",
   "version": "3.7.9"
  }
 },
 "nbformat": 4,
 "nbformat_minor": 4
}
