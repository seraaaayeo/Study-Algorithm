{
 "cells": [
  {
   "cell_type": "code",
   "execution_count": 1,
   "metadata": {},
   "outputs": [
    {
     "name": "stdout",
     "output_type": "stream",
     "text": [
      "2\n"
     ]
    },
    {
     "data": {
      "text/plain": [
       "2"
      ]
     },
     "execution_count": 1,
     "metadata": {},
     "output_type": "execute_result"
    }
   ],
   "source": [
    "T = int(input())\n",
    "T"
   ]
  },
  {
   "cell_type": "code",
   "execution_count": 8,
   "metadata": {},
   "outputs": [
    {
     "name": "stdout",
     "output_type": "stream",
     "text": [
      "We want to win the first prize\n",
      "I am happy today\n"
     ]
    },
    {
     "data": {
      "text/plain": [
       "['We want to win the first prize', 'I am happy today']"
      ]
     },
     "execution_count": 8,
     "metadata": {},
     "output_type": "execute_result"
    }
   ],
   "source": [
    "tc = []\n",
    "for i in range(T):\n",
    "    tc.append(str(input()))\n",
    "    \n",
    "tc"
   ]
  },
  {
   "cell_type": "code",
   "execution_count": 2,
   "metadata": {},
   "outputs": [],
   "source": [
    "def reverse_word(sentence):\n",
    "    words = ''\n",
    "    r_word = ''\n",
    "    words = sentence.split()\n",
    "    print(words)\n",
    "    \n",
    "    for word in words:\n",
    "        r_word += word[::-1]\n",
    "        r_word += ' '\n",
    "    print(r_word)"
   ]
  },
  {
   "cell_type": "code",
   "execution_count": 18,
   "metadata": {},
   "outputs": [
    {
     "name": "stdout",
     "output_type": "stream",
     "text": [
      "['We', 'want', 'to', 'win', 'the', 'first', 'prize']\n",
      "eW tnaw ot niw eht tsrif ezirp \n"
     ]
    }
   ],
   "source": [
    "reverse_word('We want to win the first prize')"
   ]
  },
  {
   "cell_type": "code",
   "execution_count": 3,
   "metadata": {},
   "outputs": [],
   "source": [
    "def get_input(T):\n",
    "    for i in range(T):\n",
    "        sentence = str(input())\n",
    "        reverse_word(sentence)"
   ]
  },
  {
   "cell_type": "code",
   "execution_count": 4,
   "metadata": {},
   "outputs": [
    {
     "name": "stdout",
     "output_type": "stream",
     "text": [
      "We want to win the first prize\n",
      "['We', 'want', 'to', 'win', 'the', 'first', 'prize']\n",
      "eW tnaw ot niw eht tsrif ezirp \n",
      "I am happy today\n",
      "['I', 'am', 'happy', 'today']\n",
      "I ma yppah yadot \n"
     ]
    }
   ],
   "source": [
    "get_input(T)"
   ]
  },
  {
   "cell_type": "markdown",
   "metadata": {},
   "source": [
    "## 제출 형식에 맞게 정리"
   ]
  },
  {
   "cell_type": "code",
   "execution_count": 5,
   "metadata": {},
   "outputs": [
    {
     "name": "stdout",
     "output_type": "stream",
     "text": [
      "2\n",
      "I am happy today\n",
      "We want to win the first prize\n",
      "I ma yppah yadot \n",
      "eW tnaw ot niw eht tsrif ezirp \n",
      "\n"
     ]
    }
   ],
   "source": [
    "def reverse_word(sentence):\n",
    "    words = ''\n",
    "    r_word = ''\n",
    "    words = sentence.split()\n",
    "    \n",
    "    for word in words:\n",
    "        r_word += word[::-1]\n",
    "        r_word += ' '\n",
    "    #print(r_word)\n",
    "    return r_word\n",
    "    \n",
    "def get_input(T):\n",
    "    ans = ''\n",
    "    for i in range(T):\n",
    "        sentence = str(input())\n",
    "        ans += reverse_word(sentence)\n",
    "        ans += '\\n'\n",
    "    return ans\n",
    "        \n",
    "if __name__==\"__main__\":\n",
    "    T = int(input())\n",
    "    print(get_input(T))"
   ]
  },
  {
   "cell_type": "code",
   "execution_count": null,
   "metadata": {},
   "outputs": [],
   "source": []
  }
 ],
 "metadata": {
  "kernelspec": {
   "display_name": "Python 3",
   "language": "python",
   "name": "python3"
  },
  "language_info": {
   "codemirror_mode": {
    "name": "ipython",
    "version": 3
   },
   "file_extension": ".py",
   "mimetype": "text/x-python",
   "name": "python",
   "nbconvert_exporter": "python",
   "pygments_lexer": "ipython3",
   "version": "3.7.9"
  }
 },
 "nbformat": 4,
 "nbformat_minor": 4
}
